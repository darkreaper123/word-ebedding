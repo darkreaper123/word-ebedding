{
 "cells": [
  {
   "cell_type": "code",
   "execution_count": 1,
   "metadata": {},
   "outputs": [
    {
     "name": "stdin",
     "output_type": "stream",
     "text": [
      " sex\n"
     ]
    },
    {
     "name": "stdout",
     "output_type": "stream",
     "text": [
      "['im' 'selfish' 'impatient' ... 'subversive' 'cynical' 'meaningless']\n"
     ]
    },
    {
     "name": "stdin",
     "output_type": "stream",
     "text": [
      " 10\n"
     ]
    },
    {
     "name": "stdout",
     "output_type": "stream",
     "text": [
      "different : 0.021855808794498444\n",
      "give : 0.021866466850042343\n",
      "cant : 0.022680722177028656\n",
      "beauty : 0.022703155875205994\n",
      "time : 0.038946300745010376\n",
      "without : 0.04943421855568886\n",
      "come : 0.02291901968419552\n",
      "even : 0.03858935832977295\n",
      "love : 0.058064110577106476\n",
      "last : 0.059807196259498596\n"
     ]
    }
   ],
   "source": [
    "import keras\n",
    "import pandas as pd\n",
    "import numpy as np\n",
    "word_input = input()\n",
    "word_index = {}\n",
    "index_word = {}\n",
    "data = pd.read_csv(\"word_index.csv\").values[:,0]\n",
    "print(data)\n",
    "V = data.shape[0]\n",
    "for i in range(V):\n",
    "    word_index[data[i]] = i\n",
    "    index_word[i] = data[i]\n",
    "model = keras.models.load_model(\"word2vec_model.h5\")\n",
    "one_hot = np.zeros((V))\n",
    "one_hot[word_index[word_input]] = 1.\n",
    "one_hot = one_hot.reshape(1, -1, 1)\n",
    "top_number = int(input())\n",
    "output = model.predict(one_hot)[0]\n",
    "top = np.argpartition(output, -top_number)[-top_number:]\n",
    "for index in top:\n",
    "  print(\"{} : {}\".format(index_word[index], output[index]))"
   ]
  }
 ],
 "metadata": {
  "kernelspec": {
   "display_name": "Python 3",
   "language": "python",
   "name": "python3"
  },
  "language_info": {
   "codemirror_mode": {
    "name": "ipython",
    "version": 3
   },
   "file_extension": ".py",
   "mimetype": "text/x-python",
   "name": "python",
   "nbconvert_exporter": "python",
   "pygments_lexer": "ipython3",
   "version": "3.8.3"
  }
 },
 "nbformat": 4,
 "nbformat_minor": 4
}
